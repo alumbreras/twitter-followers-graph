{
 "cells": [
  {
   "cell_type": "code",
   "execution_count": 2,
   "metadata": {},
   "outputs": [],
   "source": [
    "# http://www.laurentluce.com/posts/twitter-sentiment-analysis-using-python-and-nltk/\n",
    "# Sentiment analysis of tweets\n",
    "# Get hashtag participants\n",
    "from matplotlib import pylab as plt\n",
    "%matplotlib inline \n",
    "\n",
    "tweets = []\n",
    "screen_names = {}\n",
    "with open(\"./tracked/cupnacional.txt\", 'r') as f:\n",
    "    for line in f.readlines():\n",
    "        if line[0:5] != \"LINE:\":\n",
    "            continue\n",
    "        info = line.split(\"LINE:\")[1]\n",
    "        tweets.append(info.split('\\t')[3])"
   ]
  },
  {
   "cell_type": "code",
   "execution_count": 3,
   "metadata": {},
   "outputs": [],
   "source": [
    "neg_corpus = ['puta', 'puto', 'putos', \n",
    "              'traïdors', 'traïdor', 'traïdora', 'traïdores',\n",
    "              'fàstic', 'fastigós', 'fastigosa', 'fastigosos', \n",
    "              'botiflers', 'botifler', 'botiflera', \n",
    "              'porcs', \n",
    "              'venuts', 'cabrons', 'malparits', 'malparida', 'malparit',\n",
    "              \"tanoques\", \"galifardeus\", \"tòtils\", \"pallussos\", \"capsigranys\", \n",
    "              \"carallots\", \"torracollons\", \"poca-vergonyes\", \"sòmines\", \"trossos de quòniam\"]\n",
    "\n",
    "counter = {neg: 0 for neg in neg_corpus}"
   ]
  },
  {
   "cell_type": "code",
   "execution_count": 4,
   "metadata": {},
   "outputs": [
    {
     "data": {
      "text/plain": [
       "['tra\\xc3\\xafdora',\n",
       " 'trossos de qu\\xc3\\xb2niam',\n",
       " 'torracollons',\n",
       " 'malparit',\n",
       " 'poca-vergonyes',\n",
       " 'tra\\xc3\\xafdors',\n",
       " 'venuts',\n",
       " 'tra\\xc3\\xafdores',\n",
       " 'pallussos',\n",
       " 'tra\\xc3\\xafdor',\n",
       " 'malparits',\n",
       " 'tanoques',\n",
       " 'puta',\n",
       " 'puto',\n",
       " 'fastigosos',\n",
       " 'f\\xc3\\xa0stic',\n",
       " 's\\xc3\\xb2mines',\n",
       " 't\\xc3\\xb2tils',\n",
       " 'putos',\n",
       " 'capsigranys',\n",
       " 'fastigosa',\n",
       " 'porcs',\n",
       " 'carallots',\n",
       " 'botifler',\n",
       " 'cabrons',\n",
       " 'fastig\\xc3\\xb3s',\n",
       " 'malparida',\n",
       " 'galifardeus',\n",
       " 'botiflera',\n",
       " 'botiflers']"
      ]
     },
     "execution_count": 4,
     "metadata": {},
     "output_type": "execute_result"
    }
   ],
   "source": [
    "counter.keys()"
   ]
  },
  {
   "cell_type": "code",
   "execution_count": 5,
   "metadata": {},
   "outputs": [],
   "source": [
    "from nltk.tokenize import WordPunctTokenizer, TreebankWordTokenizer\n",
    "\n",
    "#tokenizer = WordPunctTokenizer() # faster\n",
    "tokenizer = TreebankWordTokenizer() # slower. Correctly tokens \"traïdors\"\n",
    "\n",
    "negatives = 0\n",
    "for t in tweets:\n",
    "    # exclude RT\n",
    "    if \"RT\" in t:\n",
    "        continue\n",
    "        \n",
    "    text = tokenizer.tokenize(t.lower())\n",
    "\n",
    "    # does the tweet contain a swear word at all?\n",
    "    if any(neg in text for neg in counter.keys()):\n",
    "        negatives +=1\n",
    "        \n",
    "        # which word has been seen?\n",
    "        for neg in counter.keys():\n",
    "            if neg in text:\n",
    "                counter[neg]+=1"
   ]
  },
  {
   "cell_type": "code",
   "execution_count": 6,
   "metadata": {},
   "outputs": [
    {
     "name": "stdout",
     "output_type": "stream",
     "text": [
      "Tweets negatius (abs): 630\n",
      "Tweets negatius (%): 0.822884012539\n"
     ]
    }
   ],
   "source": [
    "print 'Tweets negatius (abs):', negatives\n",
    "print 'Tweets negatius (%):', 100.0*negatives/len(tweets)"
   ]
  },
  {
   "cell_type": "code",
   "execution_count": 7,
   "metadata": {},
   "outputs": [
    {
     "data": {
      "text/plain": [
       "{'botifler': 13,\n",
       " 'botiflera': 7,\n",
       " 'botiflers': 180,\n",
       " 'cabrons': 6,\n",
       " 'capsigranys': 1,\n",
       " 'carallots': 2,\n",
       " 'fastigosa': 2,\n",
       " 'fastigosos': 2,\n",
       " 'fastig\\xc3\\xb3s': 5,\n",
       " 'f\\xc3\\xa0stic': 46,\n",
       " 'galifardeus': 2,\n",
       " 'malparida': 0,\n",
       " 'malparit': 2,\n",
       " 'malparits': 3,\n",
       " 'pallussos': 0,\n",
       " 'poca-vergonyes': 0,\n",
       " 'porcs': 8,\n",
       " 'puta': 128,\n",
       " 'puto': 19,\n",
       " 'putos': 17,\n",
       " 's\\xc3\\xb2mines': 0,\n",
       " 'tanoques': 2,\n",
       " 'torracollons': 1,\n",
       " 'tra\\xc3\\xafdor': 22,\n",
       " 'tra\\xc3\\xafdora': 5,\n",
       " 'tra\\xc3\\xafdores': 1,\n",
       " 'tra\\xc3\\xafdors': 172,\n",
       " 'trossos de qu\\xc3\\xb2niam': 0,\n",
       " 't\\xc3\\xb2tils': 0,\n",
       " 'venuts': 21}"
      ]
     },
     "execution_count": 7,
     "metadata": {},
     "output_type": "execute_result"
    }
   ],
   "source": [
    "counter"
   ]
  },
  {
   "cell_type": "code",
   "execution_count": 8,
   "metadata": {},
   "outputs": [],
   "source": [
    "ranking = sorted(counter.items(), key=lambda x: x[1], reverse=True)"
   ]
  },
  {
   "cell_type": "code",
   "execution_count": 9,
   "metadata": {},
   "outputs": [
    {
     "data": {
      "text/plain": [
       "[('botiflers', 180),\n",
       " ('tra\\xc3\\xafdors', 172),\n",
       " ('puta', 128),\n",
       " ('f\\xc3\\xa0stic', 46),\n",
       " ('tra\\xc3\\xafdor', 22),\n",
       " ('venuts', 21),\n",
       " ('puto', 19),\n",
       " ('putos', 17),\n",
       " ('botifler', 13),\n",
       " ('porcs', 8),\n",
       " ('botiflera', 7),\n",
       " ('cabrons', 6),\n",
       " ('tra\\xc3\\xafdora', 5),\n",
       " ('fastig\\xc3\\xb3s', 5),\n",
       " ('malparits', 3),\n",
       " ('malparit', 2),\n",
       " ('tanoques', 2),\n",
       " ('fastigosos', 2),\n",
       " ('fastigosa', 2),\n",
       " ('carallots', 2),\n",
       " ('galifardeus', 2),\n",
       " ('torracollons', 1),\n",
       " ('tra\\xc3\\xafdores', 1),\n",
       " ('capsigranys', 1),\n",
       " ('trossos de qu\\xc3\\xb2niam', 0),\n",
       " ('poca-vergonyes', 0),\n",
       " ('pallussos', 0),\n",
       " ('s\\xc3\\xb2mines', 0),\n",
       " ('t\\xc3\\xb2tils', 0),\n",
       " ('malparida', 0)]"
      ]
     },
     "execution_count": 9,
     "metadata": {},
     "output_type": "execute_result"
    }
   ],
   "source": [
    "ranking"
   ]
  },
  {
   "cell_type": "code",
   "execution_count": 11,
   "metadata": {},
   "outputs": [],
   "source": [
    "counts = [v for k,v in ranking]\n",
    "words = [k.decode('utf-8') for k,v in ranking]"
   ]
  },
  {
   "cell_type": "markdown",
   "metadata": {},
   "source": [
    "### Ranking d'insults"
   ]
  },
  {
   "cell_type": "code",
   "execution_count": 13,
   "metadata": {},
   "outputs": [
    {
     "data": {
      "text/plain": [
       "[]"
      ]
     },
     "execution_count": 13,
     "metadata": {},
     "output_type": "execute_result"
    },
    {
     "data": {
      "image/png": "[encoded data removed]",
      "text/plain": [
       "<matplotlib.figure.Figure at 0x7fc6fcc92750>"
      ]
     },
     "metadata": {},
     "output_type": "display_data"
    }
   ],
   "source": [
    "import numpy as np\n",
    "fig, ax = plt.subplots(figsize=(20,10))\n",
    "x = np.arange(len(counts))\n",
    "ax.bar(x, counts, color='y', alpha=0.5)\n",
    "ax.set_xticks(x+0)\n",
    "ax.set_xticklabels(words, size=14, rotation=45)\n",
    "ax.set_title('Insults a @cupnacional', size=16)\n",
    "plt.plot()\n"
   ]
  },
  {
   "cell_type": "code",
   "execution_count": null,
   "metadata": {
    "collapsed": true
   },
   "outputs": [],
   "source": []
  }
 ],
 "metadata": {
  "kernelspec": {
   "display_name": "Python 3",
   "language": "python",
   "name": "python3"
  },
  "language_info": {
   "codemirror_mode": {
    "name": "ipython",
    "version": 3
   },
   "file_extension": ".py",
   "mimetype": "text/x-python",
   "name": "python",
   "nbconvert_exporter": "python",
   "pygments_lexer": "ipython3",
   "version": "3.6.1"
  }
 },
 "nbformat": 4,
 "nbformat_minor": 1
}
